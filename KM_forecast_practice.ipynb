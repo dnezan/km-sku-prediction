{
  "nbformat": 4,
  "nbformat_minor": 0,
  "metadata": {
    "colab": {
      "name": "KM-forecast-practice.ipynb",
      "provenance": [],
      "collapsed_sections": [],
      "authorship_tag": "ABX9TyPLwNvxdyapc14ZXNJoN9Fm",
      "include_colab_link": true
    },
    "kernelspec": {
      "name": "python3",
      "display_name": "Python 3"
    },
    "language_info": {
      "name": "python"
    }
  },
  "cells": [
    {
      "cell_type": "markdown",
      "metadata": {
        "id": "view-in-github",
        "colab_type": "text"
      },
      "source": [
        "<a href=\"https://colab.research.google.com/github/dnezan/km-prediction/blob/main/KM_forecast_practice.ipynb\" target=\"_parent\"><img src=\"https://colab.research.google.com/assets/colab-badge.svg\" alt=\"Open In Colab\"/></a>"
      ]
    },
    {
      "cell_type": "markdown",
      "metadata": {
        "id": "C4SyfIMsTKV-"
      },
      "source": [
        "# **KwickMetrics Forecast Practice**\n",
        "Dinesh Sreekanthan"
      ]
    },
    {
      "cell_type": "markdown",
      "metadata": {
        "id": "MRV0utQYUBe7"
      },
      "source": [
        "# Data Overview\n",
        "The dataset has 3 columns\n",
        "<br>\n",
        "*   SKU ID\n",
        "*   Date\n",
        "*   Number of items sold that day\n",
        "\n",
        "By using the function `=COUNTUNIQUE(A:A)` in Google Spreadsheets, we can find the number of unique items being sold. <br>\n",
        "\n",
        "**There are 3786 unique items being sold over a period of about 1 year (01.01.2021 - 25.11.2021)**"
      ]
    },
    {
      "cell_type": "markdown",
      "metadata": {
        "id": "tdSxAZ1YIeW3"
      },
      "source": [
        "# Setting up Cloud Drive"
      ]
    },
    {
      "cell_type": "code",
      "metadata": {
        "colab": {
          "base_uri": "https://localhost:8080/"
        },
        "id": "inoBxGhBUnWv",
        "outputId": "2bb33fd5-3335-4643-aaf8-427a3ab48217"
      },
      "source": [
        "from google.colab import drive\n",
        "drive.mount('/content/drive')"
      ],
      "execution_count": null,
      "outputs": [
        {
          "output_type": "stream",
          "name": "stdout",
          "text": [
            "Mounted at /content/drive\n"
          ]
        }
      ]
    },
    {
      "cell_type": "code",
      "metadata": {
        "colab": {
          "base_uri": "https://localhost:8080/"
        },
        "id": "JXZWBG9HW2jd",
        "outputId": "0cd788a2-1dad-4eaa-fe42-7f36fd0825ae"
      },
      "source": [
        "%cd \"/content/drive/My Drive\""
      ],
      "execution_count": null,
      "outputs": [
        {
          "output_type": "stream",
          "name": "stdout",
          "text": [
            "/content/drive/My Drive\n"
          ]
        }
      ]
    },
    {
      "cell_type": "code",
      "metadata": {
        "colab": {
          "base_uri": "https://localhost:8080/"
        },
        "id": "8w7X4_8BXHMa",
        "outputId": "846fbf81-3089-4114-9947-f722811f3f82"
      },
      "source": [
        "!mkdir km-forecast-practice\n",
        "!ls"
      ],
      "execution_count": null,
      "outputs": [
        {
          "output_type": "stream",
          "name": "stdout",
          "text": [
            " 360review\t    km-forecast-practice\n",
            "'Colab Notebooks'   km-forecast-practice-data.gsheet\n",
            " csvfiles\t   'Untitled spreadsheet.gsheet'\n",
            " Invoice.gsheet\n"
          ]
        }
      ]
    },
    {
      "cell_type": "code",
      "metadata": {
        "colab": {
          "base_uri": "https://localhost:8080/"
        },
        "id": "9WWwhyipYS-I",
        "outputId": "949b728a-01ce-4eba-d19a-2eaa69f86c71"
      },
      "source": [
        "%cd \"/content/drive/My Drive/km-forecast-practice\""
      ],
      "execution_count": null,
      "outputs": [
        {
          "output_type": "stream",
          "name": "stdout",
          "text": [
            "/content/drive/My Drive/km-forecast-practice\n",
            "km-forecast-practice-data.csv\n"
          ]
        }
      ]
    },
    {
      "cell_type": "markdown",
      "metadata": {
        "id": "LGHm-8asL0L1"
      },
      "source": [
        "Make sure to move your dataset `km-forecast-practice.csv` to this folder."
      ]
    },
    {
      "cell_type": "code",
      "metadata": {
        "colab": {
          "base_uri": "https://localhost:8080/"
        },
        "id": "mOmRQqylLbeH",
        "outputId": "ccab9a8e-15e3-4cc6-b16e-3a59e9eb4c16"
      },
      "source": [
        "!ls"
      ],
      "execution_count": null,
      "outputs": [
        {
          "output_type": "stream",
          "name": "stdout",
          "text": [
            "km-forecast-practice-data.csv\n"
          ]
        }
      ]
    },
    {
      "cell_type": "code",
      "metadata": {
        "colab": {
          "base_uri": "https://localhost:8080/",
          "height": 306
        },
        "id": "nqvRZqQNMKcA",
        "outputId": "aff3ba6c-b9e8-4523-cdd7-e02db3c6fd70"
      },
      "source": [
        "import pandas as pd\n",
        "import csv\n",
        "import datetime\n",
        "\n",
        "x = datetime.datetime.now()\n",
        "\n",
        "print(x.year)\n",
        "print(x.strftime(\"%A\"))\n",
        "\n",
        "df=pd.read_csv('km-forecast-practice-data.csv')\n",
        "df['timestamp']= pd.to_datetime(df['timestamp'])\n",
        "print(df.dtypes)\n",
        "df.head()\n"
      ],
      "execution_count": 57,
      "outputs": [
        {
          "output_type": "stream",
          "name": "stdout",
          "text": [
            "2021\n",
            "Wednesday\n",
            "item_id              object\n",
            "timestamp    datetime64[ns]\n",
            "demand                int64\n",
            "dtype: object\n"
          ]
        },
        {
          "output_type": "execute_result",
          "data": {
            "text/html": [
              "<div>\n",
              "<style scoped>\n",
              "    .dataframe tbody tr th:only-of-type {\n",
              "        vertical-align: middle;\n",
              "    }\n",
              "\n",
              "    .dataframe tbody tr th {\n",
              "        vertical-align: top;\n",
              "    }\n",
              "\n",
              "    .dataframe thead th {\n",
              "        text-align: right;\n",
              "    }\n",
              "</style>\n",
              "<table border=\"1\" class=\"dataframe\">\n",
              "  <thead>\n",
              "    <tr style=\"text-align: right;\">\n",
              "      <th></th>\n",
              "      <th>item_id</th>\n",
              "      <th>timestamp</th>\n",
              "      <th>demand</th>\n",
              "    </tr>\n",
              "  </thead>\n",
              "  <tbody>\n",
              "    <tr>\n",
              "      <th>0</th>\n",
              "      <td>AP001AA01</td>\n",
              "      <td>2021-01-01</td>\n",
              "      <td>10</td>\n",
              "    </tr>\n",
              "    <tr>\n",
              "      <th>1</th>\n",
              "      <td>AP001AA01</td>\n",
              "      <td>2021-01-02</td>\n",
              "      <td>6</td>\n",
              "    </tr>\n",
              "    <tr>\n",
              "      <th>2</th>\n",
              "      <td>AP001AA01</td>\n",
              "      <td>2021-01-03</td>\n",
              "      <td>9</td>\n",
              "    </tr>\n",
              "    <tr>\n",
              "      <th>3</th>\n",
              "      <td>AP001AA01</td>\n",
              "      <td>2021-01-04</td>\n",
              "      <td>7</td>\n",
              "    </tr>\n",
              "    <tr>\n",
              "      <th>4</th>\n",
              "      <td>AP001AA01</td>\n",
              "      <td>2021-01-05</td>\n",
              "      <td>10</td>\n",
              "    </tr>\n",
              "  </tbody>\n",
              "</table>\n",
              "</div>"
            ],
            "text/plain": [
              "     item_id  timestamp  demand\n",
              "0  AP001AA01 2021-01-01      10\n",
              "1  AP001AA01 2021-01-02       6\n",
              "2  AP001AA01 2021-01-03       9\n",
              "3  AP001AA01 2021-01-04       7\n",
              "4  AP001AA01 2021-01-05      10"
            ]
          },
          "metadata": {},
          "execution_count": 57
        }
      ]
    },
    {
      "cell_type": "markdown",
      "metadata": {
        "id": "kbXDGogBSnn9"
      },
      "source": [
        "# Preprocessing the Data\n",
        "The first step is to rearrange the data so that we have each column representing a day and the rows containing the SKU ID. <br> \n",
        "We must also populate the data with missing dates, which we assume have 0 items sold on that day. So the first step is to add the missing dates, then set these as 0."
      ]
    },
    {
      "cell_type": "code",
      "metadata": {
        "id": "pA_fW_P4S0pm",
        "colab": {
          "base_uri": "https://localhost:8080/",
          "height": 247
        },
        "outputId": "f928eea0-2343-4c73-cb35-b42aa2b2777e"
      },
      "source": [
        "data = [['item1', 10], ['item2', 15], ['item3', 14]]\n",
        "start_date=df.timestamp[1].date()  \n",
        "end_date=df.timestamp.iat[-1].date()\n",
        "print('Start date is') \n",
        "print(start_date)\n",
        "print('End date is')\n",
        "print(end_date)\n",
        "\n",
        "# Populating the new dataset\n",
        "df_new = pd.DataFrame(data, columns = ['SKU', start_date])\n",
        "x = start_date\n",
        "\n",
        "index = 2\n",
        "var=0\n",
        "\n",
        "while var<70:\n",
        "  x+= datetime.timedelta(days=1)\n",
        "  df_new.insert(loc=index, column=x, value=0)\n",
        "  index+=1\n",
        "  var+=1\n",
        "df_new.head()"
      ],
      "execution_count": 92,
      "outputs": [
        {
          "output_type": "stream",
          "name": "stdout",
          "text": [
            "Start date is\n",
            "2021-01-02\n",
            "End date is\n",
            "2021-10-08\n"
          ]
        },
        {
          "output_type": "execute_result",
          "data": {
            "text/html": [
              "<div>\n",
              "<style scoped>\n",
              "    .dataframe tbody tr th:only-of-type {\n",
              "        vertical-align: middle;\n",
              "    }\n",
              "\n",
              "    .dataframe tbody tr th {\n",
              "        vertical-align: top;\n",
              "    }\n",
              "\n",
              "    .dataframe thead th {\n",
              "        text-align: right;\n",
              "    }\n",
              "</style>\n",
              "<table border=\"1\" class=\"dataframe\">\n",
              "  <thead>\n",
              "    <tr style=\"text-align: right;\">\n",
              "      <th></th>\n",
              "      <th>SKU</th>\n",
              "      <th>2021-01-02</th>\n",
              "      <th>2021-01-03</th>\n",
              "      <th>2021-01-04</th>\n",
              "      <th>2021-01-05</th>\n",
              "      <th>2021-01-06</th>\n",
              "      <th>2021-01-07</th>\n",
              "      <th>2021-01-08</th>\n",
              "      <th>2021-01-09</th>\n",
              "      <th>2021-01-10</th>\n",
              "      <th>2021-01-11</th>\n",
              "      <th>2021-01-12</th>\n",
              "      <th>2021-01-13</th>\n",
              "      <th>2021-01-14</th>\n",
              "      <th>2021-01-15</th>\n",
              "      <th>2021-01-16</th>\n",
              "      <th>2021-01-17</th>\n",
              "      <th>2021-01-18</th>\n",
              "      <th>2021-01-19</th>\n",
              "      <th>2021-01-20</th>\n",
              "      <th>2021-01-21</th>\n",
              "      <th>2021-01-22</th>\n",
              "      <th>2021-01-23</th>\n",
              "      <th>2021-01-24</th>\n",
              "      <th>2021-01-25</th>\n",
              "      <th>2021-01-26</th>\n",
              "      <th>2021-01-27</th>\n",
              "      <th>2021-01-28</th>\n",
              "      <th>2021-01-29</th>\n",
              "      <th>2021-01-30</th>\n",
              "      <th>2021-01-31</th>\n",
              "      <th>2021-02-01</th>\n",
              "      <th>2021-02-02</th>\n",
              "      <th>2021-02-03</th>\n",
              "      <th>2021-02-04</th>\n",
              "      <th>2021-02-05</th>\n",
              "      <th>2021-02-06</th>\n",
              "      <th>2021-02-07</th>\n",
              "      <th>2021-02-08</th>\n",
              "      <th>2021-02-09</th>\n",
              "      <th>2021-02-10</th>\n",
              "      <th>2021-02-11</th>\n",
              "      <th>2021-02-12</th>\n",
              "      <th>2021-02-13</th>\n",
              "      <th>2021-02-14</th>\n",
              "      <th>2021-02-15</th>\n",
              "      <th>2021-02-16</th>\n",
              "      <th>2021-02-17</th>\n",
              "      <th>2021-02-18</th>\n",
              "      <th>2021-02-19</th>\n",
              "      <th>2021-02-20</th>\n",
              "      <th>2021-02-21</th>\n",
              "      <th>2021-02-22</th>\n",
              "      <th>2021-02-23</th>\n",
              "      <th>2021-02-24</th>\n",
              "      <th>2021-02-25</th>\n",
              "      <th>2021-02-26</th>\n",
              "      <th>2021-02-27</th>\n",
              "      <th>2021-02-28</th>\n",
              "      <th>2021-03-01</th>\n",
              "      <th>2021-03-02</th>\n",
              "      <th>2021-03-03</th>\n",
              "      <th>2021-03-04</th>\n",
              "      <th>2021-03-05</th>\n",
              "      <th>2021-03-06</th>\n",
              "      <th>2021-03-07</th>\n",
              "      <th>2021-03-08</th>\n",
              "      <th>2021-03-09</th>\n",
              "      <th>2021-03-10</th>\n",
              "      <th>2021-03-11</th>\n",
              "      <th>2021-03-12</th>\n",
              "      <th>2021-03-13</th>\n",
              "    </tr>\n",
              "  </thead>\n",
              "  <tbody>\n",
              "    <tr>\n",
              "      <th>0</th>\n",
              "      <td>item1</td>\n",
              "      <td>10</td>\n",
              "      <td>0</td>\n",
              "      <td>0</td>\n",
              "      <td>0</td>\n",
              "      <td>0</td>\n",
              "      <td>0</td>\n",
              "      <td>0</td>\n",
              "      <td>0</td>\n",
              "      <td>0</td>\n",
              "      <td>0</td>\n",
              "      <td>0</td>\n",
              "      <td>0</td>\n",
              "      <td>0</td>\n",
              "      <td>0</td>\n",
              "      <td>0</td>\n",
              "      <td>0</td>\n",
              "      <td>0</td>\n",
              "      <td>0</td>\n",
              "      <td>0</td>\n",
              "      <td>0</td>\n",
              "      <td>0</td>\n",
              "      <td>0</td>\n",
              "      <td>0</td>\n",
              "      <td>0</td>\n",
              "      <td>0</td>\n",
              "      <td>0</td>\n",
              "      <td>0</td>\n",
              "      <td>0</td>\n",
              "      <td>0</td>\n",
              "      <td>0</td>\n",
              "      <td>0</td>\n",
              "      <td>0</td>\n",
              "      <td>0</td>\n",
              "      <td>0</td>\n",
              "      <td>0</td>\n",
              "      <td>0</td>\n",
              "      <td>0</td>\n",
              "      <td>0</td>\n",
              "      <td>0</td>\n",
              "      <td>0</td>\n",
              "      <td>0</td>\n",
              "      <td>0</td>\n",
              "      <td>0</td>\n",
              "      <td>0</td>\n",
              "      <td>0</td>\n",
              "      <td>0</td>\n",
              "      <td>0</td>\n",
              "      <td>0</td>\n",
              "      <td>0</td>\n",
              "      <td>0</td>\n",
              "      <td>0</td>\n",
              "      <td>0</td>\n",
              "      <td>0</td>\n",
              "      <td>0</td>\n",
              "      <td>0</td>\n",
              "      <td>0</td>\n",
              "      <td>0</td>\n",
              "      <td>0</td>\n",
              "      <td>0</td>\n",
              "      <td>0</td>\n",
              "      <td>0</td>\n",
              "      <td>0</td>\n",
              "      <td>0</td>\n",
              "      <td>0</td>\n",
              "      <td>0</td>\n",
              "      <td>0</td>\n",
              "      <td>0</td>\n",
              "      <td>0</td>\n",
              "      <td>0</td>\n",
              "      <td>0</td>\n",
              "      <td>0</td>\n",
              "    </tr>\n",
              "    <tr>\n",
              "      <th>1</th>\n",
              "      <td>item2</td>\n",
              "      <td>15</td>\n",
              "      <td>0</td>\n",
              "      <td>0</td>\n",
              "      <td>0</td>\n",
              "      <td>0</td>\n",
              "      <td>0</td>\n",
              "      <td>0</td>\n",
              "      <td>0</td>\n",
              "      <td>0</td>\n",
              "      <td>0</td>\n",
              "      <td>0</td>\n",
              "      <td>0</td>\n",
              "      <td>0</td>\n",
              "      <td>0</td>\n",
              "      <td>0</td>\n",
              "      <td>0</td>\n",
              "      <td>0</td>\n",
              "      <td>0</td>\n",
              "      <td>0</td>\n",
              "      <td>0</td>\n",
              "      <td>0</td>\n",
              "      <td>0</td>\n",
              "      <td>0</td>\n",
              "      <td>0</td>\n",
              "      <td>0</td>\n",
              "      <td>0</td>\n",
              "      <td>0</td>\n",
              "      <td>0</td>\n",
              "      <td>0</td>\n",
              "      <td>0</td>\n",
              "      <td>0</td>\n",
              "      <td>0</td>\n",
              "      <td>0</td>\n",
              "      <td>0</td>\n",
              "      <td>0</td>\n",
              "      <td>0</td>\n",
              "      <td>0</td>\n",
              "      <td>0</td>\n",
              "      <td>0</td>\n",
              "      <td>0</td>\n",
              "      <td>0</td>\n",
              "      <td>0</td>\n",
              "      <td>0</td>\n",
              "      <td>0</td>\n",
              "      <td>0</td>\n",
              "      <td>0</td>\n",
              "      <td>0</td>\n",
              "      <td>0</td>\n",
              "      <td>0</td>\n",
              "      <td>0</td>\n",
              "      <td>0</td>\n",
              "      <td>0</td>\n",
              "      <td>0</td>\n",
              "      <td>0</td>\n",
              "      <td>0</td>\n",
              "      <td>0</td>\n",
              "      <td>0</td>\n",
              "      <td>0</td>\n",
              "      <td>0</td>\n",
              "      <td>0</td>\n",
              "      <td>0</td>\n",
              "      <td>0</td>\n",
              "      <td>0</td>\n",
              "      <td>0</td>\n",
              "      <td>0</td>\n",
              "      <td>0</td>\n",
              "      <td>0</td>\n",
              "      <td>0</td>\n",
              "      <td>0</td>\n",
              "      <td>0</td>\n",
              "      <td>0</td>\n",
              "    </tr>\n",
              "    <tr>\n",
              "      <th>2</th>\n",
              "      <td>item3</td>\n",
              "      <td>14</td>\n",
              "      <td>0</td>\n",
              "      <td>0</td>\n",
              "      <td>0</td>\n",
              "      <td>0</td>\n",
              "      <td>0</td>\n",
              "      <td>0</td>\n",
              "      <td>0</td>\n",
              "      <td>0</td>\n",
              "      <td>0</td>\n",
              "      <td>0</td>\n",
              "      <td>0</td>\n",
              "      <td>0</td>\n",
              "      <td>0</td>\n",
              "      <td>0</td>\n",
              "      <td>0</td>\n",
              "      <td>0</td>\n",
              "      <td>0</td>\n",
              "      <td>0</td>\n",
              "      <td>0</td>\n",
              "      <td>0</td>\n",
              "      <td>0</td>\n",
              "      <td>0</td>\n",
              "      <td>0</td>\n",
              "      <td>0</td>\n",
              "      <td>0</td>\n",
              "      <td>0</td>\n",
              "      <td>0</td>\n",
              "      <td>0</td>\n",
              "      <td>0</td>\n",
              "      <td>0</td>\n",
              "      <td>0</td>\n",
              "      <td>0</td>\n",
              "      <td>0</td>\n",
              "      <td>0</td>\n",
              "      <td>0</td>\n",
              "      <td>0</td>\n",
              "      <td>0</td>\n",
              "      <td>0</td>\n",
              "      <td>0</td>\n",
              "      <td>0</td>\n",
              "      <td>0</td>\n",
              "      <td>0</td>\n",
              "      <td>0</td>\n",
              "      <td>0</td>\n",
              "      <td>0</td>\n",
              "      <td>0</td>\n",
              "      <td>0</td>\n",
              "      <td>0</td>\n",
              "      <td>0</td>\n",
              "      <td>0</td>\n",
              "      <td>0</td>\n",
              "      <td>0</td>\n",
              "      <td>0</td>\n",
              "      <td>0</td>\n",
              "      <td>0</td>\n",
              "      <td>0</td>\n",
              "      <td>0</td>\n",
              "      <td>0</td>\n",
              "      <td>0</td>\n",
              "      <td>0</td>\n",
              "      <td>0</td>\n",
              "      <td>0</td>\n",
              "      <td>0</td>\n",
              "      <td>0</td>\n",
              "      <td>0</td>\n",
              "      <td>0</td>\n",
              "      <td>0</td>\n",
              "      <td>0</td>\n",
              "      <td>0</td>\n",
              "      <td>0</td>\n",
              "    </tr>\n",
              "  </tbody>\n",
              "</table>\n",
              "</div>"
            ],
            "text/plain": [
              "     SKU  2021-01-02  2021-01-03  ...  2021-03-11  2021-03-12  2021-03-13\n",
              "0  item1          10           0  ...           0           0           0\n",
              "1  item2          15           0  ...           0           0           0\n",
              "2  item3          14           0  ...           0           0           0\n",
              "\n",
              "[3 rows x 72 columns]"
            ]
          },
          "metadata": {},
          "execution_count": 92
        }
      ]
    },
    {
      "cell_type": "code",
      "metadata": {
        "id": "k22VIFsuV3t2"
      },
      "source": [
        ""
      ],
      "execution_count": 48,
      "outputs": []
    }
  ]
}